{
 "cells": [
  {
   "cell_type": "code",
   "execution_count": null,
   "id": "bd8ee1ac-f834-4ec5-8831-7a5f8e5fc863",
   "metadata": {},
   "outputs": [],
   "source": [
    "#THEORY QUESTIONS:"
   ]
  },
  {
   "cell_type": "code",
   "execution_count": 1,
   "id": "4d836508-9b01-4716-9b02-ae53ee59f4f5",
   "metadata": {},
   "outputs": [],
   "source": [
    "#1.what is the difference between a function and a method in python?\n",
    "\n",
    "#function is a block of code wich performs some specific task/computation\n",
    "#defined by using the 'def' keyword.\n",
    "\n",
    "#A method is a function that is associated with an object\n",
    "#defined within a class\n",
    "#Methods are bound to the objects of the class"
   ]
  },
  {
   "cell_type": "code",
   "execution_count": 2,
   "id": "b554c397-2da8-40ff-a293-32394bfefd5b",
   "metadata": {},
   "outputs": [
    {
     "name": "stdout",
     "output_type": "stream",
     "text": [
      "This is my first function\n"
     ]
    }
   ],
   "source": [
    "#Example:-\n",
    "\n",
    "#FUNCTION\n",
    "def func():\n",
    "    print(\"This is my first function\")\n",
    "    \n",
    "func()    "
   ]
  },
  {
   "cell_type": "code",
   "execution_count": 3,
   "id": "2cb433fb-f166-4c68-9d87-fbc8f5f763bc",
   "metadata": {},
   "outputs": [
    {
     "name": "stdout",
     "output_type": "stream",
     "text": [
      "car is accelerating\n"
     ]
    }
   ],
   "source": [
    "#METHOD\n",
    "class Car:\n",
    "    def accelerate(self):\n",
    "        print(\"car is accelerating\")\n",
    "\n",
    "c1 = Car()\n",
    "c1.accelerate()"
   ]
  },
  {
   "cell_type": "code",
   "execution_count": null,
   "id": "4077daa7-9b2b-4f04-a6af-335036e8669f",
   "metadata": {},
   "outputs": [],
   "source": []
  },
  {
   "cell_type": "code",
   "execution_count": 6,
   "id": "9e5a5ed0-7ed8-40a9-a189-28d6e3f17baf",
   "metadata": {},
   "outputs": [
    {
     "name": "stdout",
     "output_type": "stream",
     "text": [
      "Welcome to the office Aadarsh\n"
     ]
    }
   ],
   "source": [
    "#2. Explain the concept of function arguments and parameters in python.\n",
    "\n",
    "#Parameters are the names defined in a function's signature to specify what kind of arguments the function can accept.\n",
    "#are specified in the function definition.\n",
    "# Arguments are the actual values or data you pass to a function when you call it. \n",
    "#are provided in the function call.\n",
    "def greetings(name):\n",
    "    print(\"Welcome to the office\",name)\n",
    "greetings(\"Aadarsh\")    "
   ]
  },
  {
   "cell_type": "code",
   "execution_count": null,
   "id": "29b43042-f3ec-4eb4-b65f-77dbb4d55db8",
   "metadata": {},
   "outputs": [],
   "source": []
  },
  {
   "cell_type": "code",
   "execution_count": 7,
   "id": "49d2c5d2-5de5-4ad5-bdc4-243e023cc7e3",
   "metadata": {},
   "outputs": [
    {
     "name": "stdout",
     "output_type": "stream",
     "text": [
      "This is my first function\n"
     ]
    }
   ],
   "source": [
    "#3. What are the different ways to define and call a function in python?\n",
    "\n",
    "#syntax of function\n",
    "#def func():\n",
    "     #do something>> body of function\n",
    "def func():\n",
    "    print(\"This is my first function\")\n",
    "func()    "
   ]
  },
  {
   "cell_type": "code",
   "execution_count": 9,
   "id": "a3233d0f-e30f-4991-be62-30cc2cec31a7",
   "metadata": {},
   "outputs": [
    {
     "data": {
      "text/plain": [
       "'This is my first function'"
      ]
     },
     "execution_count": 9,
     "metadata": {},
     "output_type": "execute_result"
    }
   ],
   "source": [
    "def func():\n",
    "    return(\"This is my first function\")\n",
    "func()"
   ]
  },
  {
   "cell_type": "code",
   "execution_count": null,
   "id": "4683764b-a0c4-4035-b5ee-e9c8285f4f74",
   "metadata": {},
   "outputs": [],
   "source": []
  },
  {
   "cell_type": "code",
   "execution_count": 11,
   "id": "7fbf20d5-a509-4491-9891-8334ace7a502",
   "metadata": {},
   "outputs": [
    {
     "name": "stdout",
     "output_type": "stream",
     "text": [
      "This will be printed\n"
     ]
    }
   ],
   "source": [
    "#4.What is the purpose of the 'return' statement in a python function?\n",
    "\n",
    "#Terminate the Function Execution:\n",
    "#The return statement immediately terminates the function execution.\n",
    "\n",
    "def example_function():\n",
    "    print(\"This will be printed\")\n",
    "    return\n",
    "    print(\"This will not be printed\")\n",
    "example_function()"
   ]
  },
  {
   "cell_type": "code",
   "execution_count": 1,
   "id": "657e8821-6308-4f30-b1ff-5a0b719e5d67",
   "metadata": {},
   "outputs": [
    {
     "name": "stdout",
     "output_type": "stream",
     "text": [
      "8\n"
     ]
    }
   ],
   "source": [
    "# It can send a value back to the caller. This value can be of any data type (e.g., integer, float, string, list, dictionary, object).\n",
    "def add(a, b):\n",
    "    return a + b\n",
    "\n",
    "result = add(3, 5)\n",
    "print(result) "
   ]
  },
  {
   "cell_type": "code",
   "execution_count": null,
   "id": "993c9b09-0fb8-4183-aeee-60c92515a951",
   "metadata": {},
   "outputs": [],
   "source": []
  },
  {
   "cell_type": "code",
   "execution_count": 2,
   "id": "36651bd8-ef11-419d-95b0-ce8b4707c155",
   "metadata": {},
   "outputs": [
    {
     "name": "stdout",
     "output_type": "stream",
     "text": [
      "1\n",
      "2\n",
      "Ajay\n"
     ]
    }
   ],
   "source": [
    "#5. What are iterators in python and how do they differ from iterables?\n",
    "\n",
    "#iterables>>\n",
    "#An iterable is any python object/sequentiel str/data structure thet is capable of return\n",
    "#its members one at a time\n",
    "#permittingg it to be iterated over in a for loop\n",
    "#examole>> List,Tuples\n",
    "\n",
    "lis = [1,2,\"Ajay\"] \n",
    "for i in lis:\n",
    "    print(i)"
   ]
  },
  {
   "cell_type": "code",
   "execution_count": 3,
   "id": "7d5cf49f-4fdb-41b3-aad1-ee1e65b30c6d",
   "metadata": {},
   "outputs": [
    {
     "name": "stdout",
     "output_type": "stream",
     "text": [
      "A\n",
      "a\n",
      "d\n",
      "a\n",
      "r\n",
      "s\n",
      "h\n"
     ]
    }
   ],
   "source": [
    "#iterator>>\n",
    "#iteration is a process of Looping through the elements fof an iterable\n",
    "#an iterator is an object representing a stream of data>> return the data one\n",
    "\n",
    "for i in \"Aadarsh\":\n",
    "    print(i)"
   ]
  },
  {
   "cell_type": "code",
   "execution_count": null,
   "id": "e875e368-d272-4fa0-8d59-23bb8f7cd1aa",
   "metadata": {},
   "outputs": [],
   "source": []
  },
  {
   "cell_type": "code",
   "execution_count": null,
   "id": "817c8b3a-8362-4647-be4f-67d147a20fbb",
   "metadata": {},
   "outputs": [],
   "source": [
    "#6. Explain the concept of generators in python and how the are defined.\n",
    "\n",
    "#Generators in Python are a type of iterable, like lists or tuples, but unlike lists, they don't store their contents in memory.\n",
    "#Instead, they generate items on-the-fly and can produce a sequence of values over time, which makes them highly memory efficient, \n",
    "#especially for large datasets or infinite sequences."
   ]
  },
  {
   "cell_type": "code",
   "execution_count": 14,
   "id": "3106dcad-352a-44fa-9016-2f7ade0c73f1",
   "metadata": {},
   "outputs": [
    {
     "name": "stdout",
     "output_type": "stream",
     "text": [
      "0\n",
      "1\n",
      "4\n",
      "9\n",
      "16\n",
      "25\n",
      "36\n",
      "49\n",
      "64\n",
      "81\n"
     ]
    }
   ],
   "source": [
    "#are defined using the'def' keyword like regular functions but use the yield statement to return values one at a time\n",
    "\n",
    "squares = (x * x for x in range(10))\n",
    "for square in squares:\n",
    "    print(square)"
   ]
  },
  {
   "cell_type": "code",
   "execution_count": null,
   "id": "07bed755-be47-438e-9bd5-0c69b690da17",
   "metadata": {},
   "outputs": [],
   "source": []
  },
  {
   "cell_type": "code",
   "execution_count": 13,
   "id": "f6193987-4850-4344-a980-f74d0a38d2a5",
   "metadata": {},
   "outputs": [
    {
     "data": {
      "text/plain": [
       "[0, 1, 4, 9, 16, 25, 36, 49, 64, 81]"
      ]
     },
     "execution_count": 13,
     "metadata": {},
     "output_type": "execute_result"
    }
   ],
   "source": [
    "#7.What are the advantages of using generators over regular functions?\n",
    "\n",
    "#regular function calculates the square of the values and return in one go\n",
    "#since itts returning in one go >>memory usage will be more and\n",
    "#it will take a lot of execution time if there is lot of computation as all the\n",
    "#COMPUTATIONS WILL BE DONE FIRST AND THEN THE CALCULATION Will be returned in one go\n",
    "def square_number(n):\n",
    "    result = []\n",
    "    for i in range(n):\n",
    "        result.append(i**2)\n",
    "    return result\n",
    "square_number(10)"
   ]
  },
  {
   "cell_type": "code",
   "execution_count": 8,
   "id": "d6546668-4b5c-479e-9a71-a9b8a307e89f",
   "metadata": {},
   "outputs": [],
   "source": [
    "#we have something to generate result one bye one instead of one go\n",
    "#yield>> general function uses return statement but a generator function use yield statement\n",
    "\n",
    "def square_number_generators(n):\n",
    "    for i in range(n):\n",
    "        yield(i**2)"
   ]
  },
  {
   "cell_type": "code",
   "execution_count": 9,
   "id": "d02b3a2b-2f27-4394-9300-d3524c460225",
   "metadata": {},
   "outputs": [
    {
     "data": {
      "text/plain": [
       "<generator object square_number_generators at 0x7fd6a1e4dbd0>"
      ]
     },
     "execution_count": 9,
     "metadata": {},
     "output_type": "execute_result"
    }
   ],
   "source": [
    "gen = square_number_generators(10)\n",
    "gen"
   ]
  },
  {
   "cell_type": "code",
   "execution_count": 10,
   "id": "bcfc32fd-eeb5-4bea-83e9-bdfa378d1fa3",
   "metadata": {},
   "outputs": [
    {
     "data": {
      "text/plain": [
       "0"
      ]
     },
     "execution_count": 10,
     "metadata": {},
     "output_type": "execute_result"
    }
   ],
   "source": [
    "next(gen)"
   ]
  },
  {
   "cell_type": "code",
   "execution_count": 11,
   "id": "f9353923-1073-432a-947a-7cdfc0abe7d1",
   "metadata": {},
   "outputs": [
    {
     "data": {
      "text/plain": [
       "1"
      ]
     },
     "execution_count": 11,
     "metadata": {},
     "output_type": "execute_result"
    }
   ],
   "source": [
    "next(gen)"
   ]
  },
  {
   "cell_type": "code",
   "execution_count": 12,
   "id": "b45e8ae5-b720-40c9-87dc-0e3fc149c83a",
   "metadata": {},
   "outputs": [
    {
     "data": {
      "text/plain": [
       "4"
      ]
     },
     "execution_count": 12,
     "metadata": {},
     "output_type": "execute_result"
    }
   ],
   "source": [
    "next(gen)"
   ]
  },
  {
   "cell_type": "code",
   "execution_count": null,
   "id": "5afd6f26-2a26-44c4-bb49-e00c36ce17a0",
   "metadata": {},
   "outputs": [],
   "source": []
  },
  {
   "cell_type": "code",
   "execution_count": 15,
   "id": "310b8482-bfcc-49d6-a472-8b1b24a2073b",
   "metadata": {},
   "outputs": [
    {
     "data": {
      "text/plain": [
       "4"
      ]
     },
     "execution_count": 15,
     "metadata": {},
     "output_type": "execute_result"
    }
   ],
   "source": [
    "#8. What is a lambda function in python and when is it typically used?\n",
    "\n",
    "#A lambda function in Python is a small anonymous function \n",
    "#defined using the 'lambda' keyword.\n",
    "#are limited to a single expression and do not have a name.\n",
    "\n",
    "sq_lambda = lambda x: x**2\n",
    "sq_lambda(2)"
   ]
  },
  {
   "cell_type": "code",
   "execution_count": null,
   "id": "85de5b05-ec48-47ae-9a2c-7045e04bb1a3",
   "metadata": {},
   "outputs": [],
   "source": []
  },
  {
   "cell_type": "code",
   "execution_count": 16,
   "id": "6f56902e-5961-4c53-878a-b200bb874dc8",
   "metadata": {},
   "outputs": [
    {
     "data": {
      "text/plain": [
       "[1, 4, 9, 16, 25]"
      ]
     },
     "execution_count": 16,
     "metadata": {},
     "output_type": "execute_result"
    }
   ],
   "source": [
    "#9. Explain the purpose and usage of the map() funnction in python.\n",
    "\n",
    "#map >> executes a specified function for each of item of an iterable\n",
    "#syntax >> map(func, *iterables)\n",
    "\n",
    "l = [1,2,3,4,5]\n",
    "def square(l):\n",
    "    sq = []\n",
    "    for i in l:\n",
    "        sq.append(i**2)\n",
    "    return sq\n",
    "square(l)"
   ]
  },
  {
   "cell_type": "code",
   "execution_count": null,
   "id": "1d9822e5-b9f2-4344-a1b4-78fa3f1cf032",
   "metadata": {},
   "outputs": [],
   "source": []
  },
  {
   "cell_type": "code",
   "execution_count": 18,
   "id": "adb0ed4a-3762-49c1-87a6-f8245443efe7",
   "metadata": {},
   "outputs": [
    {
     "data": {
      "text/plain": [
       "[11, 12, 13, 14, 15]"
      ]
     },
     "execution_count": 18,
     "metadata": {},
     "output_type": "execute_result"
    }
   ],
   "source": [
    "#10. What is the difference between map(),reduce(), and filter() function in python.\n",
    "\n",
    "#map >> executes a specified function for each of item of an iterable\n",
    "l = [1,2,3,4,5]\n",
    "\n",
    "def add(x):\n",
    "    return x+10\n",
    "\n",
    "list(map(add,l))"
   ]
  },
  {
   "cell_type": "code",
   "execution_count": 20,
   "id": "212d3e20-c5e7-4e03-922d-ba07c6afca70",
   "metadata": {},
   "outputs": [
    {
     "data": {
      "text/plain": [
       "25"
      ]
     },
     "execution_count": 20,
     "metadata": {},
     "output_type": "execute_result"
    }
   ],
   "source": [
    "#reduce >> folding/reduction\n",
    "#syntax>> reduce(func, iterable\n",
    "#reduce will always take two argument function\n",
    "from functools import reduce\n",
    "l = [2,1,3,4,4,5,6]\n",
    "reduce(lambda x, y:x+y, l)"
   ]
  },
  {
   "cell_type": "code",
   "execution_count": 21,
   "id": "c71d5230-d487-450a-a3ba-29aff625719d",
   "metadata": {},
   "outputs": [
    {
     "data": {
      "text/plain": [
       "[2, 4, 4, 6]"
      ]
     },
     "execution_count": 21,
     "metadata": {},
     "output_type": "execute_result"
    }
   ],
   "source": [
    "#filter function >> it is used to filter elements from an iterable based on some ciondition\n",
    "#syntax>> filter(function,iterable)\n",
    "list(filter(lambda x: x%2 == 0,l))"
   ]
  },
  {
   "cell_type": "code",
   "execution_count": null,
   "id": "92918c0c-4818-49af-90d6-9e56ceaa3d9d",
   "metadata": {},
   "outputs": [],
   "source": []
  },
  {
   "cell_type": "code",
   "execution_count": 22,
   "id": "56a46648-56ba-49d5-85e1-e9421d313938",
   "metadata": {},
   "outputs": [],
   "source": [
    "#PRACTICAL QUESTIONS:"
   ]
  },
  {
   "cell_type": "code",
   "execution_count": 23,
   "id": "3babdc05-7dd5-4063-a4b8-1520b72fea9a",
   "metadata": {},
   "outputs": [
    {
     "name": "stdout",
     "output_type": "stream",
     "text": [
      "20\n"
     ]
    }
   ],
   "source": [
    "#1.Write a python function that takes a list of numbers as input and returns the sum of all even numbers in the list.\n",
    "\n",
    "def sum_of_even_numbers(numbers):\n",
    "    return sum(num for num in numbers if num % 2 == 0)\n",
    "\n",
    "\n",
    "numbers = [1, 2, 3, 4, 5, 6,7,8,9]\n",
    "result = sum_of_even_numbers(numbers)\n",
    "print(result)  "
   ]
  },
  {
   "cell_type": "code",
   "execution_count": null,
   "id": "37da7d9c-cd06-45d1-ab33-1b8dcf38e77a",
   "metadata": {},
   "outputs": [],
   "source": []
  },
  {
   "cell_type": "code",
   "execution_count": 24,
   "id": "c64facc8-31c3-4bca-bbbc-d3c214dbe934",
   "metadata": {},
   "outputs": [
    {
     "name": "stdout",
     "output_type": "stream",
     "text": [
      "!dlroW ,olleH\n"
     ]
    }
   ],
   "source": [
    "#2. Create a python function that accepts a string and returns the reverse of that string.\n",
    "\n",
    "def reverse_string(s):\n",
    "    return s[::-1]\n",
    "\n",
    "input_string = \"Hello, World!\"\n",
    "reversed_string = reverse_string(input_string)\n",
    "print(reversed_string)"
   ]
  },
  {
   "cell_type": "code",
   "execution_count": null,
   "id": "cb7c58cb-e311-4a30-b1e2-83e94500dfff",
   "metadata": {},
   "outputs": [],
   "source": []
  },
  {
   "cell_type": "code",
   "execution_count": 25,
   "id": "90f32fda-b710-4e6b-bccb-8e84db88660f",
   "metadata": {},
   "outputs": [
    {
     "name": "stdout",
     "output_type": "stream",
     "text": [
      "[36, 49, 64, 81]\n"
     ]
    }
   ],
   "source": [
    "#3. Implement a python function that takes a list of integers and returns a new list containing the squares of each number.\n",
    "\n",
    "def square_numbers(numbers):\n",
    "    return [num ** 2 for num in numbers]\n",
    "\n",
    "\n",
    "numbers = [6,7,8,9]\n",
    "squared_numbers = square_numbers(numbers)\n",
    "print(squared_numbers)  \n"
   ]
  },
  {
   "cell_type": "code",
   "execution_count": null,
   "id": "94048d60-296e-43d5-bc66-a7798b2599d1",
   "metadata": {},
   "outputs": [],
   "source": []
  },
  {
   "cell_type": "code",
   "execution_count": 26,
   "id": "c802d522-e66f-41b6-847b-d5f05e6aed23",
   "metadata": {},
   "outputs": [
    {
     "name": "stdout",
     "output_type": "stream",
     "text": [
      "1 is not a prime number\n",
      "2 is a prime number\n",
      "3 is a prime number\n",
      "4 is not a prime number\n",
      "5 is a prime number\n",
      "6 is not a prime number\n",
      "7 is a prime number\n",
      "8 is not a prime number\n",
      "9 is not a prime number\n",
      "10 is not a prime number\n",
      "11 is a prime number\n",
      "12 is not a prime number\n",
      "13 is a prime number\n",
      "14 is not a prime number\n",
      "15 is not a prime number\n",
      "16 is not a prime number\n",
      "17 is a prime number\n",
      "18 is not a prime number\n",
      "19 is a prime number\n",
      "20 is not a prime number\n",
      "21 is not a prime number\n",
      "22 is not a prime number\n",
      "23 is a prime number\n",
      "24 is not a prime number\n",
      "25 is not a prime number\n",
      "26 is not a prime number\n",
      "27 is not a prime number\n",
      "28 is not a prime number\n",
      "29 is a prime number\n",
      "30 is not a prime number\n",
      "31 is a prime number\n",
      "32 is not a prime number\n",
      "33 is not a prime number\n",
      "34 is not a prime number\n",
      "35 is not a prime number\n",
      "36 is not a prime number\n",
      "37 is a prime number\n",
      "38 is not a prime number\n",
      "39 is not a prime number\n",
      "40 is not a prime number\n",
      "41 is a prime number\n",
      "42 is not a prime number\n",
      "43 is a prime number\n",
      "44 is not a prime number\n",
      "45 is not a prime number\n",
      "46 is not a prime number\n",
      "47 is a prime number\n",
      "48 is not a prime number\n",
      "49 is not a prime number\n",
      "50 is not a prime number\n",
      "51 is not a prime number\n",
      "52 is not a prime number\n",
      "53 is a prime number\n",
      "54 is not a prime number\n",
      "55 is not a prime number\n",
      "56 is not a prime number\n",
      "57 is not a prime number\n",
      "58 is not a prime number\n",
      "59 is a prime number\n",
      "60 is not a prime number\n",
      "61 is a prime number\n",
      "62 is not a prime number\n",
      "63 is not a prime number\n",
      "64 is not a prime number\n",
      "65 is not a prime number\n",
      "66 is not a prime number\n",
      "67 is a prime number\n",
      "68 is not a prime number\n",
      "69 is not a prime number\n",
      "70 is not a prime number\n",
      "71 is a prime number\n",
      "72 is not a prime number\n",
      "73 is a prime number\n",
      "74 is not a prime number\n",
      "75 is not a prime number\n",
      "76 is not a prime number\n",
      "77 is not a prime number\n",
      "78 is not a prime number\n",
      "79 is a prime number\n",
      "80 is not a prime number\n",
      "81 is not a prime number\n",
      "82 is not a prime number\n",
      "83 is a prime number\n",
      "84 is not a prime number\n",
      "85 is not a prime number\n",
      "86 is not a prime number\n",
      "87 is not a prime number\n",
      "88 is not a prime number\n",
      "89 is a prime number\n",
      "90 is not a prime number\n",
      "91 is not a prime number\n",
      "92 is not a prime number\n",
      "93 is not a prime number\n",
      "94 is not a prime number\n",
      "95 is not a prime number\n",
      "96 is not a prime number\n",
      "97 is a prime number\n",
      "98 is not a prime number\n",
      "99 is not a prime number\n",
      "100 is not a prime number\n",
      "101 is a prime number\n",
      "102 is not a prime number\n",
      "103 is a prime number\n",
      "104 is not a prime number\n",
      "105 is not a prime number\n",
      "106 is not a prime number\n",
      "107 is a prime number\n",
      "108 is not a prime number\n",
      "109 is a prime number\n",
      "110 is not a prime number\n",
      "111 is not a prime number\n",
      "112 is not a prime number\n",
      "113 is a prime number\n",
      "114 is not a prime number\n",
      "115 is not a prime number\n",
      "116 is not a prime number\n",
      "117 is not a prime number\n",
      "118 is not a prime number\n",
      "119 is not a prime number\n",
      "120 is not a prime number\n",
      "121 is not a prime number\n",
      "122 is not a prime number\n",
      "123 is not a prime number\n",
      "124 is not a prime number\n",
      "125 is not a prime number\n",
      "126 is not a prime number\n",
      "127 is a prime number\n",
      "128 is not a prime number\n",
      "129 is not a prime number\n",
      "130 is not a prime number\n",
      "131 is a prime number\n",
      "132 is not a prime number\n",
      "133 is not a prime number\n",
      "134 is not a prime number\n",
      "135 is not a prime number\n",
      "136 is not a prime number\n",
      "137 is a prime number\n",
      "138 is not a prime number\n",
      "139 is a prime number\n",
      "140 is not a prime number\n",
      "141 is not a prime number\n",
      "142 is not a prime number\n",
      "143 is not a prime number\n",
      "144 is not a prime number\n",
      "145 is not a prime number\n",
      "146 is not a prime number\n",
      "147 is not a prime number\n",
      "148 is not a prime number\n",
      "149 is a prime number\n",
      "150 is not a prime number\n",
      "151 is a prime number\n",
      "152 is not a prime number\n",
      "153 is not a prime number\n",
      "154 is not a prime number\n",
      "155 is not a prime number\n",
      "156 is not a prime number\n",
      "157 is a prime number\n",
      "158 is not a prime number\n",
      "159 is not a prime number\n",
      "160 is not a prime number\n",
      "161 is not a prime number\n",
      "162 is not a prime number\n",
      "163 is a prime number\n",
      "164 is not a prime number\n",
      "165 is not a prime number\n",
      "166 is not a prime number\n",
      "167 is a prime number\n",
      "168 is not a prime number\n",
      "169 is not a prime number\n",
      "170 is not a prime number\n",
      "171 is not a prime number\n",
      "172 is not a prime number\n",
      "173 is a prime number\n",
      "174 is not a prime number\n",
      "175 is not a prime number\n",
      "176 is not a prime number\n",
      "177 is not a prime number\n",
      "178 is not a prime number\n",
      "179 is a prime number\n",
      "180 is not a prime number\n",
      "181 is a prime number\n",
      "182 is not a prime number\n",
      "183 is not a prime number\n",
      "184 is not a prime number\n",
      "185 is not a prime number\n",
      "186 is not a prime number\n",
      "187 is not a prime number\n",
      "188 is not a prime number\n",
      "189 is not a prime number\n",
      "190 is not a prime number\n",
      "191 is a prime number\n",
      "192 is not a prime number\n",
      "193 is a prime number\n",
      "194 is not a prime number\n",
      "195 is not a prime number\n",
      "196 is not a prime number\n",
      "197 is a prime number\n",
      "198 is not a prime number\n",
      "199 is a prime number\n",
      "200 is not a prime number\n"
     ]
    }
   ],
   "source": [
    "#4. Write a python function that checks if given number is prime or not from 1 to 200.\n",
    "\n",
    "def is_prime(n):\n",
    "    if n <= 1:\n",
    "        return False\n",
    "    if n <= 3:\n",
    "        return True\n",
    "    if n % 2 == 0 or n % 3 == 0:\n",
    "        return False\n",
    "    i = 5\n",
    "    while i * i <= n:\n",
    "        if n % i == 0 or n % (i + 2) == 0:\n",
    "            return False\n",
    "        i += 6\n",
    "    return True\n",
    "\n",
    "\n",
    "for num in range(1, 201):\n",
    "    if is_prime(num):\n",
    "        print(f\"{num} is a prime number\")\n",
    "    else:\n",
    "        print(f\"{num} is not a prime number\")"
   ]
  },
  {
   "cell_type": "code",
   "execution_count": null,
   "id": "fabe1550-1679-4472-81f8-7f0c47fa7894",
   "metadata": {},
   "outputs": [],
   "source": []
  },
  {
   "cell_type": "code",
   "execution_count": 28,
   "id": "ef84bf5f-08df-46f5-bb49-66f7e64b0c74",
   "metadata": {},
   "outputs": [
    {
     "name": "stdout",
     "output_type": "stream",
     "text": [
      "0\n",
      "1\n",
      "1\n",
      "2\n",
      "3\n",
      "5\n",
      "8\n",
      "13\n",
      "21\n",
      "34\n",
      "55\n",
      "89\n"
     ]
    }
   ],
   "source": [
    "#5. Create an iterator class in python that generates the Fibonacci sequence up to a specified number of terms.\n",
    "\n",
    "class FibonacciIterator:\n",
    "    def __init__(self, num_terms):\n",
    "        self.num_terms = num_terms\n",
    "        self.current_term = 0\n",
    "        self.a, self.b = 0, 1\n",
    "\n",
    "    def __iter__(self):\n",
    "        return self\n",
    "\n",
    "    def __next__(self):\n",
    "        if self.current_term >= self.num_terms:\n",
    "            raise StopIteration\n",
    "        if self.current_term == 0:\n",
    "            self.current_term += 1\n",
    "            return self.a\n",
    "        elif self.current_term == 1:\n",
    "            self.current_term += 1\n",
    "            return self.b\n",
    "        else:\n",
    "            self.current_term += 1\n",
    "            self.a, self.b = self.b, self.a + self.b\n",
    "            return self.b\n",
    "\n",
    "num_terms = 12\n",
    "fib_iterator = FibonacciIterator(num_terms)\n",
    "for fib_number in fib_iterator:\n",
    "    print(fib_number)"
   ]
  },
  {
   "cell_type": "code",
   "execution_count": null,
   "id": "770fcf63-9309-457d-a725-4ae3b5ac668b",
   "metadata": {},
   "outputs": [],
   "source": []
  },
  {
   "cell_type": "code",
   "execution_count": 29,
   "id": "08af0017-62bf-40bc-8321-7ec8051981c9",
   "metadata": {},
   "outputs": [
    {
     "name": "stdout",
     "output_type": "stream",
     "text": [
      "1\n",
      "2\n",
      "4\n",
      "8\n",
      "16\n",
      "32\n",
      "64\n",
      "128\n"
     ]
    }
   ],
   "source": [
    "#6.Write a generator function in python that yields the powers of 2 up to a given exponent.\n",
    "\n",
    "def powers_of_two(max_exponent):\n",
    "    for exponent in range(max_exponent + 1):\n",
    "        yield 2 ** exponent\n",
    "\n",
    "\n",
    "max_exponent = 7\n",
    "for power in powers_of_two(max_exponent):\n",
    "    print(power)\n"
   ]
  },
  {
   "cell_type": "code",
   "execution_count": null,
   "id": "cda27603-9cf6-4074-a92e-0252494c3b49",
   "metadata": {},
   "outputs": [],
   "source": []
  },
  {
   "cell_type": "code",
   "execution_count": 32,
   "id": "51aa29cc-6588-4810-af0c-7b955fcd70ce",
   "metadata": {},
   "outputs": [
    {
     "name": "stdout",
     "output_type": "stream",
     "text": [
      "[(2, 1), (4, 2), (1, 3), (3, 5)]\n"
     ]
    }
   ],
   "source": [
    "#8. Use a lambda function in python to sort a list of tuples based on the second element of each tuple.\n",
    "\n",
    "tuples_list = [(1, 3), (2, 1), (4, 2), (3, 5)]\n",
    "\n",
    "sorted_list = sorted(tuples_list, key=lambda x: x[1])\n",
    "\n",
    "print(sorted_list)"
   ]
  },
  {
   "cell_type": "code",
   "execution_count": null,
   "id": "f3cc67dd-4f02-4543-aa50-b1fe2b835b41",
   "metadata": {},
   "outputs": [],
   "source": []
  },
  {
   "cell_type": "code",
   "execution_count": 33,
   "id": "c20f9066-4fc4-4093-9914-f0d576ce5734",
   "metadata": {},
   "outputs": [
    {
     "name": "stdout",
     "output_type": "stream",
     "text": [
      "[32.0, 50.0, 68.0, 86.0, 104.0, 122.0]\n"
     ]
    }
   ],
   "source": [
    "#9. Write a python program that uses 'map()' to convert a list of temperatures from Celsius to Fahrenheit.\n",
    "\n",
    "def celsius_to_fahrenheit(celsius):\n",
    "    return (celsius * 9/5) + 32\n",
    "\n",
    "celsius_temps = [0, 10, 20, 30, 40, 50]\n",
    "\n",
    "fahrenheit_temps = map(celsius_to_fahrenheit, celsius_temps)\n",
    "\n",
    "fahrenheit_temps_list = list(fahrenheit_temps)\n",
    "print(fahrenheit_temps_list) "
   ]
  },
  {
   "cell_type": "code",
   "execution_count": null,
   "id": "33fe1368-35af-4552-adfc-1f5a18d5a364",
   "metadata": {},
   "outputs": [],
   "source": []
  },
  {
   "cell_type": "code",
   "execution_count": 34,
   "id": "f7f12654-bb66-4cc7-aa67-1f1ba213bc53",
   "metadata": {},
   "outputs": [
    {
     "name": "stdout",
     "output_type": "stream",
     "text": [
      "Hll, Wrld!\n"
     ]
    }
   ],
   "source": [
    "#10. Create a python program that uses 'filter()' to remove all the vowels from a given string.\n",
    "\n",
    "def remove_vowels(s):\n",
    "    vowels = 'aeiouAEIOU'\n",
    "    return ''.join(filter(lambda char: char not in vowels, s))\n",
    "\n",
    "# Example\n",
    "input_string = \"Hello, World!\"\n",
    "result = remove_vowels(input_string)\n",
    "print(result)  "
   ]
  },
  {
   "cell_type": "code",
   "execution_count": null,
   "id": "dacb937a-3e14-4628-8237-30f0ca081893",
   "metadata": {},
   "outputs": [],
   "source": []
  }
 ],
 "metadata": {
  "kernelspec": {
   "display_name": "Python 3 (ipykernel)",
   "language": "python",
   "name": "python3"
  },
  "language_info": {
   "codemirror_mode": {
    "name": "ipython",
    "version": 3
   },
   "file_extension": ".py",
   "mimetype": "text/x-python",
   "name": "python",
   "nbconvert_exporter": "python",
   "pygments_lexer": "ipython3",
   "version": "3.10.8"
  }
 },
 "nbformat": 4,
 "nbformat_minor": 5
}
